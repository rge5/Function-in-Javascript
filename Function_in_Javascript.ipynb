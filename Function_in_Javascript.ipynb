{
  "nbformat": 4,
  "nbformat_minor": 0,
  "metadata": {
    "colab": {
      "provenance": []
    },
    "kernelspec": {
      "name": "python3",
      "display_name": "Python 3"
    },
    "language_info": {
      "name": "python"
    }
  },
  "cells": [
    {
      "cell_type": "code",
      "execution_count": null,
      "metadata": {
        "id": "2LuOkN-tDvmc"
      },
      "outputs": [],
      "source": [
        "1.Create an arrow function called square that takes a number as an argument and returns its square. Use\n",
        "the arrow function to calculate the square of a given number and display the result."
      ]
    },
    {
      "cell_type": "code",
      "source": [
        " square = (x) => x*x;\n",
        "const result = square(6);\n",
        "console.log(\"the square is :\",  result);"
      ],
      "metadata": {
        "id": "3TQQUexNE8XL"
      },
      "execution_count": null,
      "outputs": []
    },
    {
      "cell_type": "markdown",
      "source": [
        "2.Create a JavaScript function called generateGreeting that takes a name as an argument and returns a\n",
        "personalized greeting message. Use this function to greet three different people."
      ],
      "metadata": {
        "id": "cZIXFdVCFCdC"
      }
    },
    {
      "cell_type": "code",
      "source": [
        "function generateGreeting(name) {\n",
        "    return `Hello, ${name}! Welcome to our website.`;\n",
        "}\n",
        "\n",
        "console.log(generateGreeting(\"ayush\"));\n",
        "console.log(generateGreeting(\"akash\"));\n",
        "console.log(generateGreeting(\"chhanda\"));\n",
        "\n",
        "\n"
      ],
      "metadata": {
        "id": "jp8hksitFM5-"
      },
      "execution_count": null,
      "outputs": []
    },
    {
      "cell_type": "markdown",
      "source": [
        "3. Create an IIFE (Immediately Invoked Function Expression) that calculates the square of a number and\n",
        "immediately displays the result."
      ],
      "metadata": {
        "id": "p0nWnVA6FT1_"
      }
    },
    {
      "cell_type": "code",
      "source": [
        "function Square(x){ // here x is parameter\n",
        "    return x*x;\n",
        "}\n",
        "\n",
        "console.log( \"Square of 5 is\",Square(5));"
      ],
      "metadata": {
        "id": "V05tJkAnGIeJ"
      },
      "execution_count": null,
      "outputs": []
    },
    {
      "cell_type": "markdown",
      "source": [
        "4. Write a JavaScript function called calculateTax that takes an income as an argument and returns the\n",
        "amount of tax to be paid. Use a closure to handle different tax rates based on income ranges. Test the\n",
        "function with various incomes."
      ],
      "metadata": {
        "id": "chvtIIFmGNXG"
      }
    },
    {
      "cell_type": "code",
      "source": [
        "function calculateTax(){\n",
        "    return function(income){\n",
        "\n",
        "        let taxrate;\n",
        "\n",
        "        if(income <= 250000){\n",
        "            taxrate = 0;\n",
        "        }else if (income <= 500000){\n",
        "            taxrate = 0.05; // 5%\n",
        "        }else if (income <= 1000000){\n",
        "            taxrate = 0.2; // 2%\n",
        "        } else{\n",
        "            taxrate = 0.3; // 30%\n",
        "        }\n",
        "        return income * taxrate;\n",
        "}\n",
        "}\n",
        "\n",
        "const TaxCalculator = calculateTax();\n",
        "\n",
        "console.log(\"Tax is\", TaxCalculator(200000));\n",
        "console.log(\"Tax is\", TaxCalculator(500000));\n",
        "console.log(\"Tax is\", TaxCalculator(750000));\n",
        "console.log(\"Tax is\", TaxCalculator(1200000));"
      ],
      "metadata": {
        "id": "-8Ia5T37GQq2"
      },
      "execution_count": null,
      "outputs": []
    },
    {
      "cell_type": "markdown",
      "source": [
        "5. Write a JavaScript function called factorial that calculates the factorial of a non-negative integer using\n",
        "recursion. Test the function with different inputs."
      ],
      "metadata": {
        "id": "PGjjz9p4GTmC"
      }
    },
    {
      "cell_type": "code",
      "source": [
        "function factorial(n){\n",
        "    if(n ==0 || n == 1){\n",
        "        return 1;\n",
        "    }\n",
        "\n",
        "    if(n < 0){\n",
        "        return \"Factorial is not defined for negative number.\";\n",
        "    }\n",
        "    return n * factorial(n-1);\n",
        "}\n",
        "console.log(factorial(5));\n",
        "console.log(factorial(4));\n",
        "console.log(factorial(7));\n",
        "console.log(factorial(0));\n",
        "console.log(factorial(-5));"
      ],
      "metadata": {
        "id": "StDzeL-CGYDw"
      },
      "execution_count": null,
      "outputs": []
    },
    {
      "cell_type": "markdown",
      "source": [
        "6. Write a JavaScript function called curry that takes a function as an argument and returns a curried\n",
        "version of that function. The curried function should accept arguments one at a time and return a new\n",
        "function until all arguments are provided. Then, it should execute the original function with all arguments.\n",
        "Test the curry function with a function that adds two numbers."
      ],
      "metadata": {
        "id": "yV5cXSWoGYsw"
      }
    },
    {
      "cell_type": "code",
      "source": [
        "function curry(fn) {\n",
        "  return function curried(...args) {\n",
        "    if (args.length >= fn.length) {\n",
        "      // If we have enough arguments, call the original function\n",
        "      return fn(...args);\n",
        "    } else {\n",
        "      // Otherwise, return a new function that collects more arguments\n",
        "      return function(...nextArgs) {\n",
        "        return curried(...args, ...nextArgs);\n",
        "      };\n",
        "    }\n",
        "  };\n",
        "}\n",
        "\n",
        "function add(a, b) {\n",
        "  return a + b;\n",
        "}\n",
        "\n",
        "const curriedAdd = curry(add);\n",
        "\n",
        "console.log(curriedAdd(1)(1)); // Output: 5\n",
        "\n"
      ],
      "metadata": {
        "id": "SSwKJsGcGdl3"
      },
      "execution_count": null,
      "outputs": []
    }
  ]
}